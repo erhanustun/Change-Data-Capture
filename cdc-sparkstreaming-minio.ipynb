{
 "cells": [
  {
   "cell_type": "code",
   "execution_count": 1,
   "id": "75e63ef1-7b52-4e36-a931-42af8c663c07",
   "metadata": {},
   "outputs": [],
   "source": [
    "from pyspark.sql import SparkSession\n",
    "from pyspark import SparkContext\n",
    "from pyspark.sql.types import *\n",
    "from pyspark.sql import SparkSession, functions as F\n",
    "import warnings\n",
    "warnings.filterwarnings('ignore')"
   ]
  },
  {
   "cell_type": "code",
   "execution_count": 2,
   "id": "9fb14f0f-f5f5-4c46-8775-45106319efd9",
   "metadata": {},
   "outputs": [],
   "source": [
    "# Defining MinIO login credentials.\n",
    "accessKeyId= \"cdc-user\"\n",
    "secretAccessKey= \"cdc-password\""
   ]
  },
  {
   "cell_type": "code",
   "execution_count": 3,
   "id": "6dea3c37-2819-469a-8b60-4cd6d4e94555",
   "metadata": {
    "scrolled": true
   },
   "outputs": [
    {
     "name": "stdout",
     "output_type": "stream",
     "text": [
      ":: loading settings :: url = jar:file:/opt/bitnami/spark/jars/ivy-2.5.1.jar!/org/apache/ivy/core/settings/ivysettings.xml\n"
     ]
    },
    {
     "name": "stderr",
     "output_type": "stream",
     "text": [
      "Ivy Default Cache set to: /opt/bitnami/spark/.ivy2/cache\n",
      "The jars for the packages stored in: /opt/bitnami/spark/.ivy2/jars\n",
      "org.apache.spark#spark-sql-kafka-0-10_2.12 added as a dependency\n",
      ":: resolving dependencies :: org.apache.spark#spark-submit-parent-c3ec0583-153a-4353-8ac1-2f5d8a7d03ca;1.0\n",
      "\tconfs: [default]\n",
      "\tfound org.apache.spark#spark-sql-kafka-0-10_2.12;3.5.4 in central\n",
      "\tfound org.apache.spark#spark-token-provider-kafka-0-10_2.12;3.5.4 in central\n",
      "\tfound org.apache.kafka#kafka-clients;3.4.1 in central\n",
      "\tfound org.lz4#lz4-java;1.8.0 in central\n",
      "\tfound org.xerial.snappy#snappy-java;1.1.10.5 in central\n",
      "\tfound org.slf4j#slf4j-api;2.0.7 in central\n",
      "\tfound org.apache.hadoop#hadoop-client-runtime;3.3.4 in central\n",
      "\tfound org.apache.hadoop#hadoop-client-api;3.3.4 in central\n",
      "\tfound commons-logging#commons-logging;1.1.3 in central\n",
      "\tfound com.google.code.findbugs#jsr305;3.0.0 in central\n",
      "\tfound org.apache.commons#commons-pool2;2.11.1 in central\n",
      "downloading https://repo1.maven.org/maven2/org/apache/spark/spark-sql-kafka-0-10_2.12/3.5.4/spark-sql-kafka-0-10_2.12-3.5.4.jar ...\n",
      "\t[SUCCESSFUL ] org.apache.spark#spark-sql-kafka-0-10_2.12;3.5.4!spark-sql-kafka-0-10_2.12.jar (425ms)\n",
      "downloading https://repo1.maven.org/maven2/org/apache/spark/spark-token-provider-kafka-0-10_2.12/3.5.4/spark-token-provider-kafka-0-10_2.12-3.5.4.jar ...\n",
      "\t[SUCCESSFUL ] org.apache.spark#spark-token-provider-kafka-0-10_2.12;3.5.4!spark-token-provider-kafka-0-10_2.12.jar (188ms)\n",
      "downloading https://repo1.maven.org/maven2/org/apache/kafka/kafka-clients/3.4.1/kafka-clients-3.4.1.jar ...\n",
      "\t[SUCCESSFUL ] org.apache.kafka#kafka-clients;3.4.1!kafka-clients.jar (5892ms)\n",
      "downloading https://repo1.maven.org/maven2/com/google/code/findbugs/jsr305/3.0.0/jsr305-3.0.0.jar ...\n",
      "\t[SUCCESSFUL ] com.google.code.findbugs#jsr305;3.0.0!jsr305.jar (200ms)\n",
      "downloading https://repo1.maven.org/maven2/org/apache/commons/commons-pool2/2.11.1/commons-pool2-2.11.1.jar ...\n",
      "\t[SUCCESSFUL ] org.apache.commons#commons-pool2;2.11.1!commons-pool2.jar (355ms)\n",
      "downloading https://repo1.maven.org/maven2/org/apache/hadoop/hadoop-client-runtime/3.3.4/hadoop-client-runtime-3.3.4.jar ...\n",
      "\t[SUCCESSFUL ] org.apache.hadoop#hadoop-client-runtime;3.3.4!hadoop-client-runtime.jar (51214ms)\n",
      "downloading https://repo1.maven.org/maven2/org/lz4/lz4-java/1.8.0/lz4-java-1.8.0.jar ...\n",
      "\t[SUCCESSFUL ] org.lz4#lz4-java;1.8.0!lz4-java.jar (1245ms)\n",
      "downloading https://repo1.maven.org/maven2/org/xerial/snappy/snappy-java/1.1.10.5/snappy-java-1.1.10.5.jar ...\n",
      "\t[SUCCESSFUL ] org.xerial.snappy#snappy-java;1.1.10.5!snappy-java.jar(bundle) (4609ms)\n",
      "downloading https://repo1.maven.org/maven2/org/slf4j/slf4j-api/2.0.7/slf4j-api-2.0.7.jar ...\n",
      "\t[SUCCESSFUL ] org.slf4j#slf4j-api;2.0.7!slf4j-api.jar (246ms)\n",
      "downloading https://repo1.maven.org/maven2/org/apache/hadoop/hadoop-client-api/3.3.4/hadoop-client-api-3.3.4.jar ...\n",
      "\t[SUCCESSFUL ] org.apache.hadoop#hadoop-client-api;3.3.4!hadoop-client-api.jar (36508ms)\n",
      "downloading https://repo1.maven.org/maven2/commons-logging/commons-logging/1.1.3/commons-logging-1.1.3.jar ...\n",
      "\t[SUCCESSFUL ] commons-logging#commons-logging;1.1.3!commons-logging.jar (273ms)\n",
      ":: resolution report :: resolve 17181ms :: artifacts dl 101301ms\n",
      "\t:: modules in use:\n",
      "\tcom.google.code.findbugs#jsr305;3.0.0 from central in [default]\n",
      "\tcommons-logging#commons-logging;1.1.3 from central in [default]\n",
      "\torg.apache.commons#commons-pool2;2.11.1 from central in [default]\n",
      "\torg.apache.hadoop#hadoop-client-api;3.3.4 from central in [default]\n",
      "\torg.apache.hadoop#hadoop-client-runtime;3.3.4 from central in [default]\n",
      "\torg.apache.kafka#kafka-clients;3.4.1 from central in [default]\n",
      "\torg.apache.spark#spark-sql-kafka-0-10_2.12;3.5.4 from central in [default]\n",
      "\torg.apache.spark#spark-token-provider-kafka-0-10_2.12;3.5.4 from central in [default]\n",
      "\torg.lz4#lz4-java;1.8.0 from central in [default]\n",
      "\torg.slf4j#slf4j-api;2.0.7 from central in [default]\n",
      "\torg.xerial.snappy#snappy-java;1.1.10.5 from central in [default]\n",
      "\t---------------------------------------------------------------------\n",
      "\t|                  |            modules            ||   artifacts   |\n",
      "\t|       conf       | number| search|dwnlded|evicted|| number|dwnlded|\n",
      "\t---------------------------------------------------------------------\n",
      "\t|      default     |   11  |   11  |   11  |   0   ||   11  |   11  |\n",
      "\t---------------------------------------------------------------------\n",
      ":: retrieving :: org.apache.spark#spark-submit-parent-c3ec0583-153a-4353-8ac1-2f5d8a7d03ca\n",
      "\tconfs: [default]\n",
      "\t11 artifacts copied, 0 already retrieved (57002kB/167ms)\n",
      "25/01/25 07:47:01 WARN NativeCodeLoader: Unable to load native-hadoop library for your platform... using builtin-java classes where applicable\n",
      "Setting default log level to \"WARN\".\n",
      "To adjust logging level use sc.setLogLevel(newLevel). For SparkR, use setLogLevel(newLevel).\n"
     ]
    }
   ],
   "source": [
    "# Creating SparkSession .\n",
    "spark = SparkSession.builder \\\n",
    ".appName(\"Spark-MinIO\") \\\n",
    ".master(\"spark://spark-master:7077\") \\\n",
    ".config(\"spark.jars.packages\",\"org.apache.spark:spark-sql-kafka-0-10_2.12:3.5.4\") \\\n",
    ".getOrCreate()"
   ]
  },
  {
   "cell_type": "code",
   "execution_count": 4,
   "id": "cc655dc4-70d9-4713-96ee-61a40618f2e8",
   "metadata": {},
   "outputs": [],
   "source": [
    "def minio_config(spark_context: SparkContext):\n",
    "    spark_context._jsc.hadoopConfiguration().set('fs.s3a.access.key', accessKeyId)\n",
    "    spark_context._jsc.hadoopConfiguration().set('fs.s3a.secret.key', secretAccessKey)\n",
    "    spark_context._jsc.hadoopConfiguration().set('fs.s3a.path.style.access', 'true')\n",
    "    spark_context._jsc.hadoopConfiguration().set('fs.s3a.impl', 'org.apache.hadoop.fs.s3a.S3AFileSystem')\n",
    "    spark_context._jsc.hadoopConfiguration().set('fs.s3a.endpoint', 'http://minio:9000')"
   ]
  },
  {
   "cell_type": "code",
   "execution_count": 5,
   "id": "b6d1c41b-027f-4880-8db3-94c0922fa2ed",
   "metadata": {},
   "outputs": [],
   "source": [
    "minio_config(spark.sparkContext)"
   ]
  },
  {
   "cell_type": "code",
   "execution_count": 6,
   "id": "dde6ae72-bcf6-4fc2-a09f-549635021cfe",
   "metadata": {},
   "outputs": [],
   "source": [
    "df = spark \\\n",
    "  .readStream \\\n",
    "  .format(\"kafka\") \\\n",
    "  .option(\"kafka.bootstrap.servers\", \"kafka:9092\") \\\n",
    "  .option(\"subscribe\", \"dbserver1.public.customers\") \\\n",
    "  .option(\"startingOffsets\", \"latest\") \\\n",
    "  .option(\"multiline\",\"true\") \\\n",
    "  .load()"
   ]
  },
  {
   "cell_type": "code",
   "execution_count": 7,
   "id": "604cd6a6-b567-4a86-9254-1c66b20c04af",
   "metadata": {},
   "outputs": [],
   "source": [
    "df_schema = StructType([\n",
    "     StructField('schema',  StringType(), True),\n",
    "     StructField('payload', StringType(), True)\n",
    "     ])"
   ]
  },
  {
   "cell_type": "code",
   "execution_count": 8,
   "id": "32e38b18-503e-4392-940d-6088ca2cc9f7",
   "metadata": {},
   "outputs": [],
   "source": [
    "df2 = df.selectExpr(\"cast (value as string) as json\")\\\n",
    "    .select(F.from_json(\"json\", schema=df_schema).alias(\"data\"))\\\n",
    "    .select(\"data.payload\")"
   ]
  },
  {
   "cell_type": "code",
   "execution_count": 9,
   "id": "c5ebe474-9e92-41da-b51f-d20be5501b78",
   "metadata": {},
   "outputs": [
    {
     "name": "stdout",
     "output_type": "stream",
     "text": [
      "root\n",
      " |-- payload: string (nullable = true)\n",
      "\n"
     ]
    }
   ],
   "source": [
    "df2.printSchema()"
   ]
  },
  {
   "cell_type": "code",
   "execution_count": 10,
   "id": "57bb7d49-61ef-44f9-bf6e-0489d884db45",
   "metadata": {},
   "outputs": [],
   "source": [
    "message_schema = StructType([\n",
    "     StructField('before', MapType(StringType(), StringType(), True), True),\n",
    "     StructField('after', MapType(StringType(), StringType(), True), True),\n",
    "     StructField('op', StringType(), True),\n",
    "     StructField('ts_ms', StringType(), True)\n",
    "     ]\n",
    ")"
   ]
  },
  {
   "cell_type": "code",
   "execution_count": 11,
   "id": "e4e630ac-7644-4d5f-9c01-a65e74802bea",
   "metadata": {},
   "outputs": [],
   "source": [
    "after_fields = [\n",
    "    \"customerId\", \"customerFName\", \"customerLName\", \"customerEmail\",\n",
    "    \"customerPassword\", \"customerStreet\", \"customerCity\", \"customerState\", \"customerZipcode\"]"
   ]
  },
  {
   "cell_type": "code",
   "execution_count": 12,
   "id": "d88093cf-3376-4b8e-8993-281a2fcbe79a",
   "metadata": {},
   "outputs": [],
   "source": [
    "before_fields = [\n",
    "    \"customerId\", \"customerFName\", \"customerLName\", \"customerEmail\",\n",
    "    \"customerPassword\", \"customerStreet\", \"customerCity\", \"customerState\", \"customerZipcode\"]"
   ]
  },
  {
   "cell_type": "code",
   "execution_count": 13,
   "id": "89ef5f23-40b2-4b1d-9613-25f8da305781",
   "metadata": {},
   "outputs": [],
   "source": [
    "df_final = df2.withColumn(\"payload\",F.from_json(F.col(\"payload\"), message_schema))\\\n",
    ".select(*[F.col(\"payload.before\").getItem(f).alias('payload.before.'+f) for f in before_fields], \\\n",
    "*[F.col(\"payload.after\").getItem(f).alias('payload.after.'+f) for f in after_fields], \\\n",
    "        'payload.op','payload.ts_ms')"
   ]
  },
  {
   "cell_type": "code",
   "execution_count": 14,
   "id": "188ef24a-0803-41b0-a6a9-691bdc65a48c",
   "metadata": {},
   "outputs": [
    {
     "data": {
      "text/plain": [
       "DataFrame[payload.before.customerId: string, payload.before.customerFName: string, payload.before.customerLName: string, payload.before.customerEmail: string, payload.before.customerPassword: string, payload.before.customerStreet: string, payload.before.customerCity: string, payload.before.customerState: string, payload.before.customerZipcode: string, payload.after.customerId: string, payload.after.customerFName: string, payload.after.customerLName: string, payload.after.customerEmail: string, payload.after.customerPassword: string, payload.after.customerStreet: string, payload.after.customerCity: string, payload.after.customerState: string, payload.after.customerZipcode: string, op: string, ts_ms: string]"
      ]
     },
     "execution_count": 14,
     "metadata": {},
     "output_type": "execute_result"
    }
   ],
   "source": [
    "df_final"
   ]
  },
  {
   "cell_type": "code",
   "execution_count": 15,
   "id": "6874d50d-f0db-4608-b6e2-aef546111dae",
   "metadata": {
    "scrolled": true
   },
   "outputs": [
    {
     "name": "stdout",
     "output_type": "stream",
     "text": [
      "root\n",
      " |-- payload.before.customerId: string (nullable = true)\n",
      " |-- payload.before.customerFName: string (nullable = true)\n",
      " |-- payload.before.customerLName: string (nullable = true)\n",
      " |-- payload.before.customerEmail: string (nullable = true)\n",
      " |-- payload.before.customerPassword: string (nullable = true)\n",
      " |-- payload.before.customerStreet: string (nullable = true)\n",
      " |-- payload.before.customerCity: string (nullable = true)\n",
      " |-- payload.before.customerState: string (nullable = true)\n",
      " |-- payload.before.customerZipcode: string (nullable = true)\n",
      " |-- payload.after.customerId: string (nullable = true)\n",
      " |-- payload.after.customerFName: string (nullable = true)\n",
      " |-- payload.after.customerLName: string (nullable = true)\n",
      " |-- payload.after.customerEmail: string (nullable = true)\n",
      " |-- payload.after.customerPassword: string (nullable = true)\n",
      " |-- payload.after.customerStreet: string (nullable = true)\n",
      " |-- payload.after.customerCity: string (nullable = true)\n",
      " |-- payload.after.customerState: string (nullable = true)\n",
      " |-- payload.after.customerZipcode: string (nullable = true)\n",
      " |-- op: string (nullable = true)\n",
      " |-- ts_ms: string (nullable = true)\n",
      "\n"
     ]
    }
   ],
   "source": [
    "df_final.printSchema()"
   ]
  },
  {
   "cell_type": "code",
   "execution_count": 16,
   "id": "312f68eb-4ba4-4989-9736-8c502c4a94f8",
   "metadata": {},
   "outputs": [],
   "source": [
    "## Write to Minio with Spark Streaming"
   ]
  },
  {
   "cell_type": "code",
   "execution_count": null,
   "id": "054529a6-7f93-42d9-9909-a0f1b5b13a4d",
   "metadata": {
    "scrolled": true
   },
   "outputs": [
    {
     "name": "stderr",
     "output_type": "stream",
     "text": [
      "25/01/25 08:09:41 WARN ResolveWriteToStream: spark.sql.adaptive.enabled is not supported in streaming DataFrames/Datasets and will be disabled.\n",
      "25/01/25 08:09:43 WARN AbstractS3ACommitterFactory: Using standard FileOutputCommitter to commit work. This is slow and potentially unsafe.\n",
      "25/01/25 08:09:46 WARN AdminClientConfig: These configurations '[key.deserializer, value.deserializer, enable.auto.commit, max.poll.records, auto.offset.reset]' were supplied but are not used yet.\n"
     ]
    }
   ],
   "source": [
    "def write_to_multiple_sinks(df, batchId):\n",
    "    # write to file\n",
    "    df.write\\\n",
    "            .format(\"csv\") \\\n",
    "            .mode(\"append\") \\\n",
    "            .save(\"s3a://cdc-bucket/output-data\")\n",
    "\n",
    "# Sink\n",
    "checkpointDir = \"s3a://cdc-bucket/checkpoint/foreachBatch\"\n",
    "# start streaming\n",
    "streamingQuery = (df_final\n",
    "                  .writeStream\n",
    "                  .foreachBatch(write_to_multiple_sinks)\n",
    "                  .option(\"checkpointLocation\", checkpointDir)\n",
    "                  .option(\"failOnDataLoss\", \"false\")\n",
    "                  .option(\"maxRetries\", 3)\n",
    "                  .start())\n",
    "\n",
    "streamingQuery.awaitTermination()"
   ]
  },
  {
   "cell_type": "code",
   "execution_count": null,
   "id": "edb46d11-054b-4a4c-9317-19faef1e6a3a",
   "metadata": {},
   "outputs": [],
   "source": [
    "spark.stop()"
   ]
  }
 ],
 "metadata": {
  "kernelspec": {
   "display_name": "Python 3 (ipykernel)",
   "language": "python",
   "name": "python3"
  },
  "language_info": {
   "codemirror_mode": {
    "name": "ipython",
    "version": 3
   },
   "file_extension": ".py",
   "mimetype": "text/x-python",
   "name": "python",
   "nbconvert_exporter": "python",
   "pygments_lexer": "ipython3",
   "version": "3.12.8"
  }
 },
 "nbformat": 4,
 "nbformat_minor": 5
}
